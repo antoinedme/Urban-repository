{
 "cells": [
  {
   "cell_type": "code",
   "execution_count": 2,
   "metadata": {},
   "outputs": [],
   "source": [
    "\n",
    "import pandas as pd\n",
    "import numpy as np\n",
    "import json\n",
    "from datetime import datetime\n",
    "from datetime import timedelta\n",
    "import pytz\n",
    "import dateutil.parser"
   ]
  },
  {
   "cell_type": "code",
   "execution_count": 3,
   "metadata": {},
   "outputs": [],
   "source": [
    "\n",
    "AQIDict = {\n",
    "    \"data\" : [\n",
    "        {\n",
    "            \"sourceType\" : 'ext',\n",
    "            \"sourceCodeName\" : 'Barcelona',\n",
    "            \"cityCode\" : 'BAR',\n",
    "            \"sourceData\": [ \n",
    "                {\n",
    "                    \"variableName\": 'c6h6',\n",
    "                    \"measuredUnit\": 'μg/㎥',\n",
    "                    \"values\":[]\n",
    "                   \n",
    "                },\n",
    "                {\n",
    "                    \"variableName\": 'o3',\n",
    "                    \"measuredUnit\": 'μg/㎥',\n",
    "                    \"values\":[]\n",
    "                },\n",
    "                {\n",
    "                    \"variableName\": 'co',\n",
    "                    \"measuredUnit\": 'mg/㎥',\n",
    "                    \"values\":[]\n",
    "                },\n",
    "                {\n",
    "                    \"variableName\": 'h2s',\n",
    "                    \"measuredUnit\": 'μg/㎥',\n",
    "                    \"values\":[]\n",
    "                },\n",
    "                {\n",
    "                    \"variableName\": 'nox',\n",
    "                    \"measuredUnit\": 'μg/㎥',\n",
    "                    \"values\":[]\n",
    "                },\n",
    "                {\n",
    "                    \"variableName\": 'no2',\n",
    "                    \"measuredUnit\": 'μg/㎥',\n",
    "                    \"values\":[]\n",
    "                },\n",
    "                {\n",
    "                    \"variableName\": 'no',\n",
    "                    \"measuredUnit\": 'μg/㎥',\n",
    "                    \"values\":[]\n",
    "                },\n",
    "            ]\n",
    "        }\n",
    "    ]\n",
    "}\n",
    "\n"
   ]
  },
  {
   "cell_type": "code",
   "execution_count": 15,
   "metadata": {},
   "outputs": [],
   "source": [
    "\n",
    "with open(\"/Users/mariaaliciabermudez/Documents/Internship2019/Urban Data Dashboards copy/jsonfiles/AQIBarcelona.json\") as datafile:\n",
    "    dataBar = json.load(datafile)\n",
    "\n"
   ]
  },
  {
   "cell_type": "code",
   "execution_count": null,
   "metadata": {},
   "outputs": [],
   "source": [
    "\n",
    "   \n"
   ]
  },
  {
   "cell_type": "code",
   "execution_count": 5,
   "metadata": {},
   "outputs": [
    {
     "name": "stdout",
     "output_type": "stream",
     "text": [
      "Done!\n"
     ]
    }
   ],
   "source": [
    "\n"
   ]
  },
  {
   "cell_type": "code",
   "execution_count": 6,
   "metadata": {},
   "outputs": [],
   "source": [
    "\n"
   ]
  },
  {
   "cell_type": "code",
   "execution_count": null,
   "metadata": {},
   "outputs": [],
   "source": [
    "\n"
   ]
  },
  {
   "cell_type": "code",
   "execution_count": null,
   "metadata": {},
   "outputs": [],
   "source": []
  }
 ],
 "metadata": {
  "kernelspec": {
   "display_name": "Python 3",
   "language": "python",
   "name": "python3"
  },
  "language_info": {
   "codemirror_mode": {
    "name": "ipython",
    "version": 3
   },
   "file_extension": ".py",
   "mimetype": "text/x-python",
   "name": "python",
   "nbconvert_exporter": "python",
   "pygments_lexer": "ipython3",
   "version": "3.7.3"
  }
 },
 "nbformat": 4,
 "nbformat_minor": 2
}
